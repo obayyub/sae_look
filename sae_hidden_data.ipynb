{
 "cells": [
  {
   "cell_type": "code",
   "execution_count": 287,
   "metadata": {},
   "outputs": [],
   "source": [
    "import numpy as np\n",
    "import torch\n",
    "import torch.nn as nn\n",
    "import torch.optim as optim\n",
    "from torch.utils.data import Dataset, DataLoader\n",
    "from matplotlib import pyplot as plt\n",
    "from tqdm import tqdm\n",
    "from collections import defaultdict"
   ]
  },
  {
   "cell_type": "code",
   "execution_count": 288,
   "metadata": {},
   "outputs": [
    {
     "data": {
      "text/plain": [
       "<torch._C.Generator at 0x119848e70>"
      ]
     },
     "execution_count": 288,
     "metadata": {},
     "output_type": "execute_result"
    }
   ],
   "source": [
    "torch.manual_seed(1337)"
   ]
  },
  {
   "cell_type": "code",
   "execution_count": 289,
   "metadata": {},
   "outputs": [],
   "source": [
    "#generate data for training as hidden state activations via LRH - sum of sparse overcomplete feature directions\n",
    "\n",
    "def generate_hidden_data(dim = 128, n_features = 512, \n",
    "                         n_samples = (2**14), sparsity = 10):\n",
    "    #basically want features Y times random vector w where w is sparse, then sum resulting vectors for hidden state\n",
    "    #overcomplete feature basis?\n",
    "    features = np.random.randn(n_features, dim)\n",
    "    features = features / np.linalg.norm(features, axis=1, keepdims=True)\n",
    "\n",
    "    #init sparsity weights\n",
    "    weights = np.zeros((n_samples, n_features))\n",
    "    #generate sparsity weights\n",
    "    for i in tqdm(range(n_samples)):\n",
    "        active_feats = np.random.choice(n_features, size=sparsity, replace=False)\n",
    "        weights[i, active_feats] = np.random.randn(sparsity)\n",
    "    #make hidden data via sum of sparse features\n",
    "    hidden_data = weights @ features\n",
    "\n",
    "    return torch.tensor(hidden_data, dtype=torch.float32)"
   ]
  },
  {
   "cell_type": "code",
   "execution_count": 290,
   "metadata": {},
   "outputs": [],
   "source": [
    "class SAE(nn.Module):\n",
    "    def __init__(self, input_dim, width_ratio=4, activation=nn.ReLU()):\n",
    "        super().__init__()\n",
    "        self.sae_hidden = input_dim * width_ratio\n",
    "        self.W_in = nn.Parameter(\n",
    "            nn.init.kaiming_uniform_(\n",
    "                torch.empty(input_dim, self.sae_hidden), nonlinearity=\"relu\"\n",
    "            )\n",
    "        )\n",
    "        self.b_in = nn.Parameter(torch.zeros(self.sae_hidden))\n",
    "        self.W_out = nn.Parameter(\n",
    "            nn.init.kaiming_uniform_(\n",
    "                torch.empty(self.sae_hidden, input_dim), nonlinearity=\"relu\"\n",
    "            )\n",
    "        )\n",
    "        self.b_out = nn.Parameter(torch.zeros(input_dim))\n",
    "        self.nonlinearity = activation\n",
    "\n",
    "    def _normalize_weights(self):\n",
    "        with torch.no_grad():\n",
    "            norms = self.W_out.norm(p=2, dim=0, keepdim=True)\n",
    "            self.W_out.div_(norms)\n",
    "\n",
    "    def forward(self, x):\n",
    "        x = x - self.b_out\n",
    "        acts = self.nonlinearity(x @ self.W_in + self.b_in)\n",
    "        l1_regularization = acts.abs().sum()\n",
    "        l0 = (acts > 0).sum(dim=1).float().mean()\n",
    "        self._normalize_weights()\n",
    "\n",
    "        return l0, l1_regularization, acts@self.W_out + self.b_out\n"
   ]
  },
  {
   "cell_type": "code",
   "execution_count": 291,
   "metadata": {},
   "outputs": [],
   "source": [
    "def train(model, train_data, test_data, batch_size=128, n_epochs=1000, l1_lam=3e-5, weight_decay=1e-4):\n",
    "    optimizer = optim.Adam(model.parameters(), weight_decay=weight_decay)\n",
    "    mse_criterion = nn.MSELoss()\n",
    "\n",
    "    n_batches = len(train_data) // batch_size\n",
    "    n_test_batches = len(test_data) // batch_size\n",
    "\n",
    "    for epoch in range(n_epochs):\n",
    "        total_loss = 0\n",
    "        total_test_loss = 0\n",
    "        total_mse_loss = 0\n",
    "        total_l1_loss = 0\n",
    "        total_l0 = 0\n",
    "        batch_perm = torch.randperm(len(train_data))\n",
    "        test_batch_perm = torch.randperm(len(test_data))\n",
    "\n",
    "        for i in range(n_batches):\n",
    "            # training\n",
    "            idx = batch_perm[i*batch_size: (i+1)*batch_size]\n",
    "            batch = train_data[idx]\n",
    "\n",
    "            optimizer.zero_grad()\n",
    "            l0, l1, recon_hiddens = model(batch)\n",
    "\n",
    "            recon_loss = mse_criterion(recon_hiddens, batch)\n",
    "            sparsity_loss = l1_lam * l1\n",
    "            loss = recon_loss + sparsity_loss\n",
    "\n",
    "            loss.backward()\n",
    "            optimizer.step()\n",
    "            \n",
    "            total_loss += loss.item()\n",
    "            total_l1_loss += sparsity_loss.item()\n",
    "            total_mse_loss += recon_loss.item()\n",
    "            total_l0 += l0\n",
    "\n",
    "            # testing\n",
    "            if i < n_test_batches:\n",
    "                test_idx = test_batch_perm[i*batch_size: (i+1)*batch_size]\n",
    "                test_batch = test_data[test_idx]\n",
    "                \n",
    "                with torch.no_grad():\n",
    "                    _, _, test_recon = model(test_batch)\n",
    "                    test_loss = mse_criterion(test_recon, test_batch)\n",
    "                    total_test_loss += test_loss.item()\n",
    "\n",
    "        \"\"\" if epoch % 10 == 0:\n",
    "            avg_loss = total_loss / n_batches\n",
    "            avg_test_loss = total_test_loss / n_test_batches\n",
    "            avg_l1_loss = total_l1_loss / n_batches\n",
    "            avg_l0 = total_l0 / n_batches\n",
    "            \n",
    "            print(f'Epoch {epoch}, Loss: {avg_loss:.4f}, '\n",
    "                  f'Test Loss: {avg_test_loss:.4f}, '\n",
    "                  f'L1: {avg_l1_loss:.4f}, '\n",
    "                  f'L0: {avg_l0:.4f}') \"\"\"\n",
    "\n",
    "    return {\n",
    "        'mse': total_mse_loss/n_batches,\n",
    "        'L0': total_l0/n_batches,\n",
    "        'L1 lambda': l1_lam,\n",
    "    }"
   ]
  },
  {
   "cell_type": "code",
   "execution_count": 292,
   "metadata": {},
   "outputs": [],
   "source": [
    "def run_experiment():\n",
    "    sparsity = 50\n",
    "    hidden_dim = 128\n",
    "    width_factor = 4\n",
    "\n",
    "    data = generate_hidden_data(dim=hidden_dim, sparsity=sparsity)\n",
    "    train_size = int(0.8 * len(data))\n",
    "    train_data, test_data = data[:train_size], data[train_size:]\n",
    "    \n",
    "    relu_model = SAE(hidden_dim, width_factor, nn.ReLU())\n",
    "    print(\"Training ReLU model...\")\n",
    "    result = train(relu_model, train_data, test_data)\n",
    "            \n",
    "\n",
    "def run_DOE():\n",
    "    sparsities = [5, 10, 20, 30, 40, 50]\n",
    "    l1_lams = [2e-5, 3e-5, 4e-5, 5e-5, 6e-5]\n",
    "    seeds = [1337, 42, 69, 420, 666]\n",
    "    hidden_dim = 128\n",
    "    results = defaultdict(list)\n",
    "    width_factor = 4\n",
    "\n",
    "    for sparsity in tqdm(sparsities):\n",
    "        for l1_lam in tqdm(l1_lams):\n",
    "            data = generate_hidden_data(dim=hidden_dim, sparsity=sparsity)\n",
    "            \n",
    "            # shuffle data\n",
    "            indices = torch.randperm(len(data))\n",
    "            data = data[indices]\n",
    "            \n",
    "            # split into train/test\n",
    "            train_size = int(0.8 * len(data))\n",
    "            train_data, test_data = data[:train_size], data[train_size:]\n",
    "            \n",
    "            relu_model = SAE(hidden_dim, width_factor, nn.ReLU())\n",
    "            print(f\"Training ReLU model with {sparsity} sparsity\")\n",
    "            results[sparsity].append(train(relu_model, train_data, test_data, l1_lam=l1_lam))\n",
    "\n",
    "    return results\n",
    "            "
   ]
  },
  {
   "cell_type": "code",
   "execution_count": 293,
   "metadata": {},
   "outputs": [
    {
     "name": "stderr",
     "output_type": "stream",
     "text": [
      "  0%|          | 0/6 [00:00<?, ?it/s]\n",
      "\u001b[A\n",
      "\u001b[A\n",
      "100%|██████████| 16384/16384 [00:00<00:00, 78995.17it/s]\n"
     ]
    },
    {
     "name": "stdout",
     "output_type": "stream",
     "text": [
      "Training ReLU model with 5 sparsity\n"
     ]
    },
    {
     "name": "stderr",
     "output_type": "stream",
     "text": [
      "\n",
      "\u001b[A\n",
      "\u001b[A\n",
      "100%|██████████| 16384/16384 [00:00<00:00, 71102.70it/s]\n"
     ]
    },
    {
     "name": "stdout",
     "output_type": "stream",
     "text": [
      "Training ReLU model with 5 sparsity\n"
     ]
    },
    {
     "name": "stderr",
     "output_type": "stream",
     "text": [
      "\n",
      "\u001b[A\n",
      "\u001b[A\n",
      "100%|██████████| 16384/16384 [00:00<00:00, 66824.08it/s]\n"
     ]
    },
    {
     "name": "stdout",
     "output_type": "stream",
     "text": [
      "Training ReLU model with 5 sparsity\n"
     ]
    },
    {
     "name": "stderr",
     "output_type": "stream",
     "text": [
      "\n",
      "\u001b[A\n",
      "\u001b[A\n",
      "100%|██████████| 16384/16384 [00:00<00:00, 65470.81it/s]\n"
     ]
    },
    {
     "name": "stdout",
     "output_type": "stream",
     "text": [
      "Training ReLU model with 5 sparsity\n"
     ]
    },
    {
     "name": "stderr",
     "output_type": "stream",
     "text": [
      "\n",
      "\u001b[A\n",
      "\u001b[A\n",
      "100%|██████████| 16384/16384 [00:00<00:00, 62648.46it/s]\n"
     ]
    },
    {
     "name": "stdout",
     "output_type": "stream",
     "text": [
      "Training ReLU model with 5 sparsity\n"
     ]
    },
    {
     "name": "stderr",
     "output_type": "stream",
     "text": [
      "100%|██████████| 5/5 [10:00<00:00, 120.09s/it]\n",
      " 17%|█▋        | 1/6 [10:00<50:02, 600.47s/it]\n",
      "\u001b[A\n",
      "\u001b[A\n",
      "100%|██████████| 16384/16384 [00:00<00:00, 63629.20it/s]\n"
     ]
    },
    {
     "name": "stdout",
     "output_type": "stream",
     "text": [
      "Training ReLU model with 10 sparsity\n"
     ]
    },
    {
     "name": "stderr",
     "output_type": "stream",
     "text": [
      "\n",
      "\u001b[A\n",
      "\u001b[A\n",
      "100%|██████████| 16384/16384 [00:00<00:00, 65062.39it/s]\n"
     ]
    },
    {
     "name": "stdout",
     "output_type": "stream",
     "text": [
      "Training ReLU model with 10 sparsity\n"
     ]
    },
    {
     "name": "stderr",
     "output_type": "stream",
     "text": [
      "\n",
      "\u001b[A\n",
      "\u001b[A\n",
      "100%|██████████| 16384/16384 [00:00<00:00, 65137.62it/s]\n"
     ]
    },
    {
     "name": "stdout",
     "output_type": "stream",
     "text": [
      "Training ReLU model with 10 sparsity\n"
     ]
    },
    {
     "name": "stderr",
     "output_type": "stream",
     "text": [
      "\n",
      "\u001b[A\n",
      "\u001b[A\n",
      "100%|██████████| 16384/16384 [00:00<00:00, 63117.08it/s]\n"
     ]
    },
    {
     "name": "stdout",
     "output_type": "stream",
     "text": [
      "Training ReLU model with 10 sparsity\n"
     ]
    },
    {
     "name": "stderr",
     "output_type": "stream",
     "text": [
      "\n",
      "\u001b[A\n",
      "\u001b[A\n",
      "100%|██████████| 16384/16384 [00:00<00:00, 60392.02it/s]\n"
     ]
    },
    {
     "name": "stdout",
     "output_type": "stream",
     "text": [
      "Training ReLU model with 10 sparsity\n"
     ]
    },
    {
     "name": "stderr",
     "output_type": "stream",
     "text": [
      "100%|██████████| 5/5 [10:47<00:00, 129.48s/it]\n",
      " 33%|███▎      | 2/6 [20:47<41:52, 628.06s/it]\n",
      "\u001b[A\n",
      "\u001b[A\n",
      "100%|██████████| 16384/16384 [00:00<00:00, 63210.55it/s]\n"
     ]
    },
    {
     "name": "stdout",
     "output_type": "stream",
     "text": [
      "Training ReLU model with 20 sparsity\n"
     ]
    },
    {
     "name": "stderr",
     "output_type": "stream",
     "text": [
      "\n",
      "\u001b[A\n",
      "\u001b[A\n",
      "100%|██████████| 16384/16384 [00:00<00:00, 61783.53it/s]\n"
     ]
    },
    {
     "name": "stdout",
     "output_type": "stream",
     "text": [
      "Training ReLU model with 20 sparsity\n"
     ]
    },
    {
     "name": "stderr",
     "output_type": "stream",
     "text": [
      "\n",
      "\u001b[A\n",
      "\u001b[A\n",
      "100%|██████████| 16384/16384 [00:00<00:00, 58870.30it/s]\n"
     ]
    },
    {
     "name": "stdout",
     "output_type": "stream",
     "text": [
      "Training ReLU model with 20 sparsity\n"
     ]
    },
    {
     "name": "stderr",
     "output_type": "stream",
     "text": [
      "\n",
      "\u001b[A\n",
      "\u001b[A\n",
      "100%|██████████| 16384/16384 [00:00<00:00, 57180.60it/s]\n"
     ]
    },
    {
     "name": "stdout",
     "output_type": "stream",
     "text": [
      "Training ReLU model with 20 sparsity\n"
     ]
    },
    {
     "name": "stderr",
     "output_type": "stream",
     "text": [
      "\n",
      "\u001b[A\n",
      "\u001b[A\n",
      "100%|██████████| 16384/16384 [00:00<00:00, 56033.63it/s]\n"
     ]
    },
    {
     "name": "stdout",
     "output_type": "stream",
     "text": [
      "Training ReLU model with 20 sparsity\n"
     ]
    },
    {
     "name": "stderr",
     "output_type": "stream",
     "text": [
      "100%|██████████| 5/5 [11:45<00:00, 141.10s/it]\n",
      " 50%|█████     | 3/6 [32:33<33:10, 663.42s/it]\n",
      "\u001b[A\n",
      "\u001b[A\n",
      "100%|██████████| 16384/16384 [00:00<00:00, 56455.11it/s]\n"
     ]
    },
    {
     "name": "stdout",
     "output_type": "stream",
     "text": [
      "Training ReLU model with 30 sparsity\n"
     ]
    },
    {
     "name": "stderr",
     "output_type": "stream",
     "text": [
      "\n",
      "\u001b[A\n",
      "\u001b[A\n",
      "\u001b[A\n",
      "100%|██████████| 16384/16384 [00:00<00:00, 50426.43it/s]\n"
     ]
    },
    {
     "name": "stdout",
     "output_type": "stream",
     "text": [
      "Training ReLU model with 30 sparsity\n"
     ]
    },
    {
     "name": "stderr",
     "output_type": "stream",
     "text": [
      "\n",
      "\u001b[A\n",
      "\u001b[A\n",
      "100%|██████████| 16384/16384 [00:00<00:00, 59007.59it/s]\n"
     ]
    },
    {
     "name": "stdout",
     "output_type": "stream",
     "text": [
      "Training ReLU model with 30 sparsity\n"
     ]
    },
    {
     "name": "stderr",
     "output_type": "stream",
     "text": [
      "\n",
      "\u001b[A\n",
      "\u001b[A\n",
      "100%|██████████| 16384/16384 [00:00<00:00, 55657.32it/s]\n"
     ]
    },
    {
     "name": "stdout",
     "output_type": "stream",
     "text": [
      "Training ReLU model with 30 sparsity\n"
     ]
    },
    {
     "name": "stderr",
     "output_type": "stream",
     "text": [
      "\n",
      "\u001b[A\n",
      "\u001b[A\n",
      "100%|██████████| 16384/16384 [00:00<00:00, 57103.39it/s]\n"
     ]
    },
    {
     "name": "stdout",
     "output_type": "stream",
     "text": [
      "Training ReLU model with 30 sparsity\n"
     ]
    },
    {
     "name": "stderr",
     "output_type": "stream",
     "text": [
      "100%|██████████| 5/5 [11:36<00:00, 139.31s/it]\n",
      " 67%|██████▋   | 4/6 [44:09<22:32, 676.49s/it]\n",
      "\u001b[A\n",
      "\u001b[A\n",
      "\u001b[A\n",
      "100%|██████████| 16384/16384 [00:00<00:00, 51933.52it/s]\n"
     ]
    },
    {
     "name": "stdout",
     "output_type": "stream",
     "text": [
      "Training ReLU model with 40 sparsity\n"
     ]
    },
    {
     "name": "stderr",
     "output_type": "stream",
     "text": [
      "\n",
      "\u001b[A\n",
      "\u001b[A\n",
      "100%|██████████| 16384/16384 [00:00<00:00, 59409.73it/s]\n"
     ]
    },
    {
     "name": "stdout",
     "output_type": "stream",
     "text": [
      "Training ReLU model with 40 sparsity\n"
     ]
    },
    {
     "name": "stderr",
     "output_type": "stream",
     "text": [
      "\n",
      "\u001b[A\n",
      "\u001b[A\n",
      "100%|██████████| 16384/16384 [00:00<00:00, 58908.40it/s]\n"
     ]
    },
    {
     "name": "stdout",
     "output_type": "stream",
     "text": [
      "Training ReLU model with 40 sparsity\n"
     ]
    },
    {
     "name": "stderr",
     "output_type": "stream",
     "text": [
      "\n",
      "\u001b[A\n",
      "\u001b[A\n",
      "100%|██████████| 16384/16384 [00:00<00:00, 59961.45it/s]\n"
     ]
    },
    {
     "name": "stdout",
     "output_type": "stream",
     "text": [
      "Training ReLU model with 40 sparsity\n"
     ]
    },
    {
     "name": "stderr",
     "output_type": "stream",
     "text": [
      "\n",
      "\u001b[A\n",
      "\u001b[A\n",
      "100%|██████████| 16384/16384 [00:00<00:00, 59266.12it/s]\n"
     ]
    },
    {
     "name": "stdout",
     "output_type": "stream",
     "text": [
      "Training ReLU model with 40 sparsity\n"
     ]
    },
    {
     "name": "stderr",
     "output_type": "stream",
     "text": [
      "100%|██████████| 5/5 [10:05<00:00, 121.08s/it]\n",
      " 83%|████████▎ | 5/6 [54:15<10:50, 650.85s/it]\n",
      "\u001b[A\n",
      "\u001b[A\n",
      "100%|██████████| 16384/16384 [00:00<00:00, 58785.79it/s]\n"
     ]
    },
    {
     "name": "stdout",
     "output_type": "stream",
     "text": [
      "Training ReLU model with 50 sparsity\n"
     ]
    },
    {
     "name": "stderr",
     "output_type": "stream",
     "text": [
      "\n",
      "\u001b[A\n",
      "\u001b[A\n",
      "100%|██████████| 16384/16384 [00:00<00:00, 59949.42it/s]\n"
     ]
    },
    {
     "name": "stdout",
     "output_type": "stream",
     "text": [
      "Training ReLU model with 50 sparsity\n"
     ]
    },
    {
     "name": "stderr",
     "output_type": "stream",
     "text": [
      "\n",
      "\u001b[A\n",
      "\u001b[A\n",
      "100%|██████████| 16384/16384 [00:00<00:00, 64867.82it/s]\n"
     ]
    },
    {
     "name": "stdout",
     "output_type": "stream",
     "text": [
      "Training ReLU model with 50 sparsity\n"
     ]
    },
    {
     "name": "stderr",
     "output_type": "stream",
     "text": [
      "\n",
      "\u001b[A\n",
      "\u001b[A\n",
      "100%|██████████| 16384/16384 [00:00<00:00, 76004.26it/s]\n"
     ]
    },
    {
     "name": "stdout",
     "output_type": "stream",
     "text": [
      "Training ReLU model with 50 sparsity\n"
     ]
    },
    {
     "name": "stderr",
     "output_type": "stream",
     "text": [
      "\n",
      "\u001b[A\n",
      "\u001b[A\n",
      "100%|██████████| 16384/16384 [00:00<00:00, 71032.51it/s]\n"
     ]
    },
    {
     "name": "stdout",
     "output_type": "stream",
     "text": [
      "Training ReLU model with 50 sparsity\n"
     ]
    },
    {
     "name": "stderr",
     "output_type": "stream",
     "text": [
      "100%|██████████| 5/5 [1:22:00<00:00, 984.03s/it] \n",
      "100%|██████████| 6/6 [2:16:15<00:00, 1362.57s/it]\n"
     ]
    }
   ],
   "source": [
    "results = run_DOE()"
   ]
  },
  {
   "cell_type": "code",
   "execution_count": 294,
   "metadata": {},
   "outputs": [],
   "source": [
    "import pandas as pd\n",
    "\n",
    "# First, let's flatten the structure\n",
    "flattened_data = []\n",
    "for key, value_list in results.items():\n",
    "    for item in value_list:\n",
    "        # Create a row by combining the outer key with the inner dictionary\n",
    "        row = {'sparsity': key, **item}\n",
    "        flattened_data.append(row)\n",
    "\n",
    "# Create DataFrame\n",
    "df = pd.DataFrame(flattened_data)\n",
    "\n",
    "# Convert tensor values to float if needed\n",
    "if 'L0' in df.columns:\n",
    "    df['L0'] = df['L0'].apply(lambda x: float(x))"
   ]
  },
  {
   "cell_type": "code",
   "execution_count": 295,
   "metadata": {},
   "outputs": [
    {
     "data": {
      "text/html": [
       "<div>\n",
       "<style scoped>\n",
       "    .dataframe tbody tr th:only-of-type {\n",
       "        vertical-align: middle;\n",
       "    }\n",
       "\n",
       "    .dataframe tbody tr th {\n",
       "        vertical-align: top;\n",
       "    }\n",
       "\n",
       "    .dataframe thead th {\n",
       "        text-align: right;\n",
       "    }\n",
       "</style>\n",
       "<table border=\"1\" class=\"dataframe\">\n",
       "  <thead>\n",
       "    <tr style=\"text-align: right;\">\n",
       "      <th></th>\n",
       "      <th>sparsity</th>\n",
       "      <th>mse</th>\n",
       "      <th>L0</th>\n",
       "      <th>L1 lambda</th>\n",
       "    </tr>\n",
       "  </thead>\n",
       "  <tbody>\n",
       "    <tr>\n",
       "      <th>0</th>\n",
       "      <td>5</td>\n",
       "      <td>0.022888</td>\n",
       "      <td>27.778952</td>\n",
       "      <td>0.00002</td>\n",
       "    </tr>\n",
       "    <tr>\n",
       "      <th>1</th>\n",
       "      <td>5</td>\n",
       "      <td>0.030227</td>\n",
       "      <td>13.400429</td>\n",
       "      <td>0.00003</td>\n",
       "    </tr>\n",
       "    <tr>\n",
       "      <th>2</th>\n",
       "      <td>5</td>\n",
       "      <td>0.033669</td>\n",
       "      <td>9.180377</td>\n",
       "      <td>0.00004</td>\n",
       "    </tr>\n",
       "    <tr>\n",
       "      <th>3</th>\n",
       "      <td>5</td>\n",
       "      <td>0.036639</td>\n",
       "      <td>6.129136</td>\n",
       "      <td>0.00005</td>\n",
       "    </tr>\n",
       "    <tr>\n",
       "      <th>4</th>\n",
       "      <td>5</td>\n",
       "      <td>0.038080</td>\n",
       "      <td>2.744409</td>\n",
       "      <td>0.00006</td>\n",
       "    </tr>\n",
       "  </tbody>\n",
       "</table>\n",
       "</div>"
      ],
      "text/plain": [
       "   sparsity       mse         L0  L1 lambda\n",
       "0         5  0.022888  27.778952    0.00002\n",
       "1         5  0.030227  13.400429    0.00003\n",
       "2         5  0.033669   9.180377    0.00004\n",
       "3         5  0.036639   6.129136    0.00005\n",
       "4         5  0.038080   2.744409    0.00006"
      ]
     },
     "execution_count": 295,
     "metadata": {},
     "output_type": "execute_result"
    }
   ],
   "source": [
    "df.head()"
   ]
  },
  {
   "cell_type": "code",
   "execution_count": 296,
   "metadata": {},
   "outputs": [
    {
     "data": {
      "image/png": "[encoded data removed]",
      "text/plain": [
       "<Figure size 1200x500 with 2 Axes>"
      ]
     },
     "metadata": {},
     "output_type": "display_data"
    }
   ],
   "source": [
    "fig, ax = plt.subplots(1, 2, figsize=(12, 5))\n",
    "lambdas = df['L1 lambda'].unique()\n",
    "\n",
    "# Create plots\n",
    "for lam in lambdas:\n",
    "    sub_df = df[df['L1 lambda'] == lam]\n",
    "    ax[0].plot(sub_df['sparsity'], sub_df['mse'], marker='o', label=f'lambda={lam}')\n",
    "    ax[1].plot(sub_df['sparsity'], sub_df['L0'], marker='o')\n",
    "\n",
    "# Add reference lines for L0 values\n",
    "l0_values = [5, 10, 20, 30, 40, 50]\n",
    "for l0 in l0_values:\n",
    "    # Horizontal line\n",
    "    ax[1].axhline(y=l0, color='gray', linestyle=':', alpha=0.5)\n",
    "    # Vertical line\n",
    "    ax[1].axvline(x=l0, color='gray', linestyle=':', alpha=0.5)\n",
    "\n",
    "# Add titles and labels\n",
    "fig.suptitle('MSE and L0 at Different L1 Lambdas', fontsize=16)\n",
    "ax[0].set_title('MSE')\n",
    "ax[1].set_title('L0')\n",
    "ax[0].set_xlabel('Synthetic Data Feature Sparsity')\n",
    "ax[1].set_xlabel('Synthetic Data Feature Sparsity')\n",
    "ax[0].set_ylabel('MSE')\n",
    "ax[1].set_ylabel('L0')\n",
    "\n",
    "# Adjust subplot spacing to make room for legend\n",
    "plt.tight_layout()\n",
    "plt.subplots_adjust(bottom=0.25)\n",
    "\n",
    "# Add single legend below both subplots\n",
    "lines, labels = ax[0].get_legend_handles_labels()\n",
    "fig.legend(lines, labels, loc='lower center', bbox_to_anchor=(0.5, 0),\n",
    "          ncol=5, borderaxespad=3)\n",
    "\n",
    "plt.show()"
   ]
  }
 ],
 "metadata": {
  "kernelspec": {
   "display_name": ".venv",
   "language": "python",
   "name": "python3"
  },
  "language_info": {
   "codemirror_mode": {
    "name": "ipython",
    "version": 3
   },
   "file_extension": ".py",
   "mimetype": "text/x-python",
   "name": "python",
   "nbconvert_exporter": "python",
   "pygments_lexer": "ipython3",
   "version": "3.12.1"
  },
  "orig_nbformat": 4
 },
 "nbformat": 4,
 "nbformat_minor": 2
}
