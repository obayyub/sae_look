{
 "cells": [
  {
   "cell_type": "code",
   "execution_count": 3,
   "metadata": {},
   "outputs": [],
   "source": [
    "import numpy as np\n",
    "import matplotlib.pyplot as plt\n",
    "import tqdm"
   ]
  },
  {
   "cell_type": "code",
   "execution_count": 36,
   "metadata": {},
   "outputs": [],
   "source": [
    "dimensions = [2, 5, 20, 500, 2000]\n",
    "num_vectors_multi = [1, 2, 5]\n",
    "samplings = 10\n",
    "\n",
    "def sum_interference(dimensions, num_vectors):\n",
    "    vectors = np.random.randn(dimensions, num_vectors)\n",
    "    #normalize the vectors\n",
    "    vectors = vectors / np.linalg.norm(vectors, axis=0)\n",
    "\n",
    "    dot_products = np.abs(vectors.T @ vectors)\n",
    "\n",
    "    # Create a mask for the upper triangle of the matrix\n",
    "    mask = np.tril(dot_products, k=0)\n",
    "\n",
    "    lower_diag = mask - np.eye(num_vectors)\n",
    "\n",
    "    sum = np.sum(lower_diag[lower_diag != 0])\n",
    "\n",
    "    return sum / num_vectors\n",
    "\n",
    "data = []\n",
    "\n",
    "for dimension in dimensions:\n",
    "    norm = None\n",
    "    for idx, vec_mult in enumerate(num_vectors_multi):\n",
    "        num_vecs = dimension * vec_mult\n",
    "        mean_interferences = np.mean([sum_interference(dimension, num_vecs) for _ in range(samplings)])\n",
    "        if idx == 0:\n",
    "            norm = mean_interferences\n",
    "        data.append((dimension, vec_mult, mean_interferences))\n",
    "        \n"
   ]
  },
  {
   "cell_type": "code",
   "execution_count": 37,
   "metadata": {},
   "outputs": [
    {
     "data": {
      "text/plain": [
       "[(2, 1, np.float64(0.374500467723628)),\n",
       " (2, 2, np.float64(0.9360522363733337)),\n",
       " (2, 5, np.float64(2.8895263011337584)),\n",
       " (5, 1, np.float64(0.6404707335913876)),\n",
       " (5, 2, np.float64(1.665515448574346)),\n",
       " (5, 5, np.float64(4.426356658745734)),\n",
       " (20, 1, np.float64(1.7713876446596402)),\n",
       " (20, 2, np.float64(3.516102622010822)),\n",
       " (20, 5, np.float64(8.990417165034803)),\n",
       " (500, 1, np.float64(8.905422693710946)),\n",
       " (500, 2, np.float64(17.824956052263527)),\n",
       " (500, 5, np.float64(44.60865474848019)),\n",
       " (2000, 1, np.float64(17.833266635600797)),\n",
       " (2000, 2, np.float64(35.678264687250746)),\n",
       " (2000, 5, np.float64(89.2056763122889))]"
      ]
     },
     "execution_count": 37,
     "metadata": {},
     "output_type": "execute_result"
    }
   ],
   "source": [
    "data"
   ]
  },
  {
   "cell_type": "code",
   "execution_count": 41,
   "metadata": {},
   "outputs": [
    {
     "name": "stderr",
     "output_type": "stream",
     "text": [
      "100%|██████████| 3/3 [00:16<00:00,  5.56s/it]\n"
     ]
    }
   ],
   "source": [
    "samples = 500\n",
    "dimension = [100, 10000, 1000000]\n",
    "data = []\n",
    "for d in tqdm.tqdm(dimension):\n",
    "    res = 0\n",
    "    for _ in range(samples):\n",
    "        v1, v2 = np.random.randn(2, d)\n",
    "        v1 = v1 / np.linalg.norm(v1)\n",
    "        v2 = v2 / np.linalg.norm(v2)\n",
    "        res += abs(np.dot(v1, v2))\n",
    "\n",
    "    data.append(res / samples)\n"
   ]
  },
  {
   "cell_type": "code",
   "execution_count": 42,
   "metadata": {},
   "outputs": [
    {
     "data": {
      "text/plain": [
       "[np.float64(0.08317448801169593),\n",
       " np.float64(0.007559108421568545),\n",
       " np.float64(0.0007844490711069094)]"
      ]
     },
     "execution_count": 42,
     "metadata": {},
     "output_type": "execute_result"
    }
   ],
   "source": [
    "data"
   ]
  },
  {
   "cell_type": "code",
   "execution_count": 40,
   "metadata": {},
   "outputs": [
    {
     "data": {
      "text/plain": [
       "Text(0.5, 1.0, 'Average Dot Product of Random Vectors')"
      ]
     },
     "execution_count": 40,
     "metadata": {},
     "output_type": "execute_result"
    },
    {
     "data": {
      "image/png": "[encoded data removed]",
      "text/plain": [
       "<Figure size 640x480 with 1 Axes>"
      ]
     },
     "metadata": {},
     "output_type": "display_data"
    }
   ],
   "source": [
    "fig, ax = plt.subplots()\n",
    "# Create a scatter plot\n",
    "ax.scatter(dimension, data, color='blue', label='Average Dot Product')\n",
    "#dimensions on a log scale\n",
    "plt.yscale('log')\n",
    "plt.xscale('log')\n",
    "plt.xlabel('Dimension')\n",
    "plt.ylabel('Average Dot Product')\n",
    "plt.title('Average Dot Product of Random Vectors')"
   ]
  },
  {
   "cell_type": "markdown",
   "metadata": {},
   "source": [
    "# fuck yeah"
   ]
  }
 ],
 "metadata": {
  "kernelspec": {
   "display_name": ".venv",
   "language": "python",
   "name": "python3"
  },
  "language_info": {
   "codemirror_mode": {
    "name": "ipython",
    "version": 3
   },
   "file_extension": ".py",
   "mimetype": "text/x-python",
   "name": "python",
   "nbconvert_exporter": "python",
   "pygments_lexer": "ipython3",
   "version": "3.12.1"
  },
  "orig_nbformat": 4
 },
 "nbformat": 4,
 "nbformat_minor": 2
}
